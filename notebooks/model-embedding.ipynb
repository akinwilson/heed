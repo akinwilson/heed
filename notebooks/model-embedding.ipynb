{
 "cells": [
  {
   "cell_type": "markdown",
   "metadata": {},
   "source": [
    "# model conversion: onnx to tflite"
   ]
  },
  {
   "cell_type": "code",
   "execution_count": null,
   "metadata": {},
   "outputs": [],
   "source": [
    "from pathlib import Path \n",
    "import torchaudio as ta \n",
    "import os \n",
    "import pandas as pd \n",
    "import numpy as numpy \n",
    "from sklearn.model_selection import train_test_split\n",
    "from torchlibrosa.stft import Spectrogram, LogmelFilterBank\n",
    "import torchaudio as ta \n",
    "import torch \n",
    "\n",
    "model_path = \"/home/akinwilson/Code/pytorch/output/model/ResNet/model.onnx\"\n",
    "WORKING_DIR = str( Path().cwd() )"
   ]
  },
  {
   "cell_type": "code",
   "execution_count": null,
   "metadata": {},
   "outputs": [],
   "source": [
    "from wwv.Architecture.ResNet.model import ResNet\n",
    "import torch \n",
    "import torch.nn.functional as F \n",
    "# from wwv.architecture import Architecture\n",
    "from wwv.eval import Metric\n",
    "from wwv.meta import params\n",
    "from wwv.util import OnnxExporter\n",
    "import statistics\n",
    "from wwv.data import AudioDataModule\n",
    "import wwv.config as cfg\n",
    "# from wwv.config import Config, FittingCfg, DataPathCfg, ResNetCfg\n",
    "from wwv.meta import params as params \n",
    "from torchlibrosa.stft import Spectrogram, LogmelFilterBank\n",
    "from torchlibrosa.augmentation import SpecAugmentation\n",
    "\n",
    "\n",
    "\n",
    "torch.cuda.is_available()\n",
    "cfg_fitting = cfg.Fitting()\n",
    "cfg_resnet = cfg.ResNet()\n",
    "\n",
    "cfg = cfg.Config(params)\n",
    "model = ResNet(num_blocks=cfg_resnet.num_blocks, cfg=cfg)\n",
    "\n",
    "OnnxExporter(model, cfg, os.getcwd(), 12)()\n"
   ]
  },
  {
   "cell_type": "code",
   "execution_count": 12,
   "metadata": {},
   "outputs": [
    {
     "name": "stderr",
     "output_type": "stream",
     "text": [
      "Found untraced functions such as gen_tensor_dict while saving (showing 1 of 1). These functions will not be directly callable after loading.\n",
      "Found untraced functions such as gen_tensor_dict while saving (showing 1 of 1). These functions will not be directly callable after loading.\n",
      "Found untraced functions such as gen_tensor_dict while saving (showing 1 of 1). These functions will not be directly callable after loading.\n",
      "Found untraced functions such as gen_tensor_dict while saving (showing 1 of 1). These functions will not be directly callable after loading.\n",
      "Assets written to: /home/akinwilson/Code/pytorch/notebooks/tf/assets\n",
      "Assets written to: /home/akinwilson/Code/pytorch/notebooks/tf/assets\n",
      "Assets written to: /home/akinwilson/Code/pytorch/notebooks/tf/assets\n",
      "Assets written to: /home/akinwilson/Code/pytorch/notebooks/tf/assets\n"
     ]
    }
   ],
   "source": [
    "import sys\n",
    "import os\n",
    "import onnx\n",
    "from onnx_tf.backend import prepare\n",
    "\n",
    "\n",
    "model_path = \"/home/akinwilson/Code/pytorch/notebooks/model.onnx\"\n",
    "out_path = \"/home/akinwilson/Code/pytorch/notebooks/tf\"\n",
    "out_lite_path = \"/home/akinwilson/Code/pytorch/notebooks/model.tflite\"\n",
    "# Load the ONNX model\n",
    "# onnx_model = onnx.load(model_path)\n",
    "# tf_rep = prepare(onnx_model)\n",
    "# # Get the input tensor shape\n",
    "# input_tensor = tf_rep.signatures[tf_rep.inputs[0]]\n",
    "# input_shape = input_tensor.shape\n",
    "# input_shape\n",
    "import onnx\n",
    "from onnx_tf.backend import prepare\n",
    "\n",
    "onnx_model = onnx.load(model_path)  # load onnx model\n",
    "tf_rep = prepare(onnx_model)  # prepare tf representation\n",
    "tf_rep.export_graph(out_path)  # export the model"
   ]
  },
  {
   "cell_type": "code",
   "execution_count": 15,
   "metadata": {},
   "outputs": [
    {
     "ename": "TypeError",
     "evalue": "TFLiteConverter.from_frozen_graph() got an unexpected keyword argument 'signature_keys'",
     "output_type": "error",
     "traceback": [
      "\u001b[0;31m---------------------------------------------------------------------------\u001b[0m",
      "\u001b[0;31mTypeError\u001b[0m                                 Traceback (most recent call last)",
      "Cell \u001b[0;32mIn [15], line 8\u001b[0m\n\u001b[1;32m      6\u001b[0m \u001b[39mimport\u001b[39;00m \u001b[39mtensorflow\u001b[39;00m \u001b[39mas\u001b[39;00m \u001b[39mtf\u001b[39;00m\n\u001b[1;32m      7\u001b[0m \u001b[39m# make a converter object from the saved tensorflow file\u001b[39;00m\n\u001b[0;32m----> 8\u001b[0m converter \u001b[39m=\u001b[39m tf\u001b[39m.\u001b[39;49mcompat\u001b[39m.\u001b[39;49mv1\u001b[39m.\u001b[39;49mlite\u001b[39m.\u001b[39;49mTFLiteConverter\u001b[39m.\u001b[39;49mfrom_frozen_graph(out_path \u001b[39m+\u001b[39;49m \u001b[39m\"\u001b[39;49m\u001b[39m/saved_model.pb\u001b[39;49m\u001b[39m\"\u001b[39;49m, \u001b[39m#TensorFlow freezegraph .pb model file\u001b[39;49;00m\n\u001b[1;32m      9\u001b[0m                                                                 input_arrays\u001b[39m=\u001b[39;49minput_names, \u001b[39m# name of input arrays as defined in torch.onnx.export function before.\u001b[39;49;00m\n\u001b[1;32m     10\u001b[0m                                                                 output_arrays\u001b[39m=\u001b[39;49moutput_names,\n\u001b[1;32m     11\u001b[0m                                                                 signature_keys\u001b[39m=\u001b[39;49m[\u001b[39m'\u001b[39;49m\u001b[39mserving_default\u001b[39;49m\u001b[39m'\u001b[39;49m])  \u001b[39m# name of output arrays defined in torch.onnx.export function before.\u001b[39;00m\n\u001b[1;32m     13\u001b[0m \u001b[39m# tell converter which type of optimization techniques to use\u001b[39;00m\n\u001b[1;32m     14\u001b[0m converter\u001b[39m.\u001b[39moptimizations \u001b[39m=\u001b[39m [tf\u001b[39m.\u001b[39mlite\u001b[39m.\u001b[39mOptimize\u001b[39m.\u001b[39mDEFAULT]\n",
      "\u001b[0;31mTypeError\u001b[0m: TFLiteConverter.from_frozen_graph() got an unexpected keyword argument 'signature_keys'"
     ]
    }
   ],
   "source": [
    "input_names = ['input_mfcc', 'dummy_input']         # the model's input names\n",
    "output_names = ['output_wwp']                       # the model's output names\n",
    "dynamic_axes={'input_mfcc' : {0 : 'batch_size'}}\n",
    "\n",
    "\n",
    "import tensorflow as tf\n",
    "# make a converter object from the saved tensorflow file\n",
    "converter = tf.compat.v1.lite.TFLiteConverter.from_frozen_graph(out_path + \"/saved_model.pb\", #TensorFlow freezegraph .pb model file\n",
    "                                                                input_arrays=input_names, # name of input arrays as defined in torch.onnx.export function before.\n",
    "                                                                output_arrays=output_names)  # name of output arrays defined in torch.onnx.export function before.\n",
    "                                                      \n",
    "# tell converter which type of optimization techniques to use\n",
    "converter.optimizations = [tf.lite.Optimize.DEFAULT]\n",
    "# to view the best option for optimization read documentation of tflite about optimization\n",
    "# go to this link https://www.tensorflow.org/lite/guide/get_started#4_optimize_your_model_optional\n",
    "# convert the model \n",
    "tf_lite_model = converter.convert()\n",
    "# save the converted model \n",
    "with open(out_lite_path, 'wb') as file:\n",
    "    file.write(tf_lite_model)\n",
    "\n",
    "\n",
    "########################################################################################################\n",
    "model = trainer.model.module.module.model\n",
    "from tensorflow import lite\n",
    "import tensorflow as tf\n",
    "import tensorflow_model_optimization as tfmot\n",
    "\n",
    "converter = lite.TFLiteConverter.from_keras_model(model)\n",
    "                    converter.optimizations = [tf.lite.Optimize.DEFAULT]\n",
    "                    tflite_model = converter.convert()\n",
    "                    open(join(model_folder, f'{model_name}_epoch_{result[\"epoch\"]}.tflite'), \"wb\").write(tflite_model)\n",
    "                    # Quantized TFLite Model\n",
    "                    if output_quant:\n",
    "                        converter = tf.lite.TFLiteConverter.from_keras_model(model)\n",
    "                        converter.optimizations = [tf.lite.Optimize.DEFAULT]\n",
    "                        converter.target_spec.supported_ops = [tf.lite.OpsSet.TFLITE_BUILTINS_INT8]\n",
    "                        converter.inference_input_type = tf.float32\n",
    "                        converter.inference_output_type = tf.float32\n",
    "                        converter.representative_dataset = self.__representative_dataset__\n",
    "                        tflite_quant_model = converter.convert()\n",
    "                        open(join(model_folder, f'{model_name}_epoch_{result[\"epoch\"]}_quant.tflite'), \"wb\").write(tflite_quant_model)"
   ]
  },
  {
   "cell_type": "code",
   "execution_count": null,
   "metadata": {},
   "outputs": [],
   "source": []
  },
  {
   "cell_type": "code",
   "execution_count": null,
   "metadata": {},
   "outputs": [],
   "source": []
  },
  {
   "cell_type": "code",
   "execution_count": null,
   "metadata": {},
   "outputs": [],
   "source": []
  },
  {
   "cell_type": "code",
   "execution_count": null,
   "metadata": {},
   "outputs": [],
   "source": []
  },
  {
   "cell_type": "code",
   "execution_count": null,
   "metadata": {},
   "outputs": [],
   "source": []
  }
 ],
 "metadata": {
  "kernelspec": {
   "display_name": "pytorch-T3BHxh3q",
   "language": "python",
   "name": "pytorch-t3bhxh3q"
  },
  "language_info": {
   "codemirror_mode": {
    "name": "ipython",
    "version": 3
   },
   "file_extension": ".py",
   "mimetype": "text/x-python",
   "name": "python",
   "nbconvert_exporter": "python",
   "pygments_lexer": "ipython3",
   "version": "3.10.4"
  },
  "orig_nbformat": 4
 },
 "nbformat": 4,
 "nbformat_minor": 2
}
