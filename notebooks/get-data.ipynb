{
 "cells": [
  {
   "cell_type": "markdown",
   "metadata": {},
   "source": [
    "# Hugging face dataset"
   ]
  },
  {
   "cell_type": "code",
   "execution_count": null,
   "metadata": {},
   "outputs": [],
   "source": [
    "!tensorboard --logdir=/home/akinwilson/Code/pytorch/output/model/DeepSpeech/2022_09_24_12.18.00_PM/tf_board"
   ]
  },
  {
   "cell_type": "code",
   "execution_count": null,
   "metadata": {},
   "outputs": [],
   "source": [
    "import base64\n",
    "import numpy as np\n",
    "import scipy.io  as io\n",
    "path = \"/home/akinwilson/Code/pytorch/dataset/keywords/yes/yes.f5626af6_nohash_2.wav\"\n",
    "_, wav = io.wavfile.read(path)\n",
    "wav\n",
    "s = base64.b64encode(wav)\n",
    "\n",
    "with open (\"base64audio\", \"wb\") as f:\n",
    "    f.write(s)\n",
    "\n",
    "with open(\"base64audio\", \"rb\") as file:\n",
    "    BASE64 = file.read()\n",
    "\n",
    "\n",
    "r = base64.decodebytes(BASE64)\n",
    "q = np.frombuffer(r, dtype=np.int16)"
   ]
  },
  {
   "cell_type": "code",
   "execution_count": 2,
   "metadata": {},
   "outputs": [],
   "source": [
    "from pathlib import Path \n",
    "import torchaudio as ta \n",
    "import os \n",
    "import pandas as pd \n",
    "import numpy as numpy \n",
    "from sklearn.model_selection import train_test_split\n",
    "\n",
    "root_dir =Path(\"/home/akinwilson/Code/pytorch/dataset/keywords\") \n",
    "\n",
    "# os.listdir(root_dir)\n",
    "\n",
    "def get_df():\n",
    "    class_zero = []\n",
    "    class_zero = [*class_zero, *[str(root_dir / \"unknown\" / f) for f in os.listdir(root_dir / \"unknown\")]]\n",
    "    class_zero = [*class_zero, *[str(root_dir / \"no\" /  f) for f in os.listdir(root_dir / \"no\")]]\n",
    "    class_zero = [*class_zero, *[str(root_dir/ \"noise\" / f) for f in os.listdir(root_dir / \"noise\")]]\n",
    "\n",
    "    class_one = [str(root_dir / \"yes\" / f) for f in os.listdir(root_dir / \"yes\")]\n",
    "    \n",
    "    class_zero = [f for f in class_zero if f.endswith(\".wav\")]\n",
    "    class_one = [f for f in class_one if f.endswith(\".wav\")]\n",
    "\n",
    "    records = []\n",
    "    for p in class_zero:\n",
    "        records.append({\"label\": 0.0, \"wav_path\": p})\n",
    "    \n",
    "    for p in class_one:\n",
    "        records.append({\"label\": 1.0, \"wav_path\": p})\n",
    "    \n",
    "    return pd.DataFrame.from_records(records)\n",
    "\n",
    "# \n",
    "def create_split(testing=True):\n",
    "    df = get_df()\n",
    "    if testing:\n",
    "        df = df.sample(n=1000, random_state=1)\n",
    "    dftv, dfs = train_test_split(df, test_size=0.1)\n",
    "    dft, dfv = train_test_split(dftv, test_size=0.1)\n",
    "    dft.to_csv(root_dir / \"train.csv\", index=False)\n",
    "    dfv.to_csv(root_dir / \"val.csv\", index=False)\n",
    "    dfs.to_csv(root_dir / \"test.csv\", index=False) \n",
    "\n",
    "create_split()\n",
    "# get_df().to_csv(root_dir / \"data.csv\", index=False)\n"
   ]
  },
  {
   "cell_type": "code",
   "execution_count": 16,
   "metadata": {},
   "outputs": [
    {
     "data": {
      "text/plain": [
       "tensor([[0.0245],\n",
       "        [0.0245],\n",
       "        [0.0245],\n",
       "        [0.0245],\n",
       "        [0.0245],\n",
       "        [0.0245],\n",
       "        [0.0245],\n",
       "        [0.0245],\n",
       "        [0.0245],\n",
       "        [0.0245],\n",
       "        [0.0245],\n",
       "        [0.0245],\n",
       "        [0.0245],\n",
       "        [0.0245],\n",
       "        [0.0245],\n",
       "        [0.0245],\n",
       "        [0.0245],\n",
       "        [0.0245],\n",
       "        [0.0245],\n",
       "        [0.0245],\n",
       "        [0.0245],\n",
       "        [0.0245],\n",
       "        [0.0245],\n",
       "        [0.0245],\n",
       "        [0.0245],\n",
       "        [0.0245],\n",
       "        [0.0245],\n",
       "        [0.0245],\n",
       "        [0.0245],\n",
       "        [0.0245],\n",
       "        [0.0245],\n",
       "        [0.0245]], grad_fn=<AddmmBackward0>)"
      ]
     },
     "execution_count": 16,
     "metadata": {},
     "output_type": "execute_result"
    }
   ],
   "source": [
    "import torchaudio as ta \n",
    "import torch \n",
    "\n",
    "x, sr = ta.load(pd.read_csv(\"/home/akinwilson/Code/pytorch/dataset/keywords/train.csv\").loc[2]['wav_path'])\n",
    "\n",
    "# x\n",
    "x =torch.cat([x for _ in range(32)], dim=0)\n",
    "torch.nn.Linear(16000, 1)(x)"
   ]
  },
  {
   "cell_type": "code",
   "execution_count": 21,
   "metadata": {},
   "outputs": [
    {
     "ename": "AttributeError",
     "evalue": "'str' object has no attribute 'prefix_chars'",
     "output_type": "error",
     "traceback": [
      "\u001b[0;31m---------------------------------------------------------------------------\u001b[0m",
      "\u001b[0;31mAttributeError\u001b[0m                            Traceback (most recent call last)",
      "Cell \u001b[0;32mIn [21], line 8\u001b[0m\n\u001b[1;32m      5\u001b[0m parser \u001b[38;5;241m=\u001b[39m ArgumentParser \n\u001b[1;32m      7\u001b[0m \u001b[38;5;66;03m# add_argument('-n', '--names-list', nargs=\"*\")\u001b[39;00m\n\u001b[0;32m----> 8\u001b[0m \u001b[43mparser\u001b[49m\u001b[38;5;241;43m.\u001b[39;49m\u001b[43madd_argument\u001b[49m\u001b[43m(\u001b[49m\u001b[38;5;124;43m'\u001b[39;49m\u001b[38;5;124;43m-ex\u001b[39;49m\u001b[38;5;124;43m'\u001b[39;49m\u001b[43m,\u001b[49m\u001b[43m \u001b[49m\u001b[38;5;124;43m'\u001b[39;49m\u001b[38;5;124;43m--exclude-noise\u001b[39;49m\u001b[38;5;124;43m'\u001b[39;49m\u001b[43m,\u001b[49m\u001b[43m \u001b[49m\u001b[43mhelp\u001b[49m\u001b[38;5;241;43m=\u001b[39;49m\u001b[38;5;124;43m'\u001b[39;49m\u001b[38;5;124;43mdelimited list input\u001b[39;49m\u001b[38;5;124;43m'\u001b[39;49m\u001b[43m,\u001b[49m\u001b[43m \u001b[49m\u001b[43mnargs\u001b[49m\u001b[38;5;241;43m=\u001b[39;49m\u001b[38;5;124;43m\"\u001b[39;49m\u001b[38;5;124;43m*\u001b[39;49m\u001b[38;5;124;43m\"\u001b[39;49m\u001b[43m,\u001b[49m\u001b[43m \u001b[49m\u001b[38;5;28;43mtype\u001b[39;49m\u001b[38;5;241;43m=\u001b[39;49m\u001b[38;5;28;43mstr\u001b[39;49m\u001b[43m,\u001b[49m\u001b[43m \u001b[49m\u001b[43mdefault\u001b[49m\u001b[38;5;241;43m=\u001b[39;49m\u001b[38;5;124;43m\"\u001b[39;49m\u001b[38;5;124;43makin,jay\u001b[39;49m\u001b[38;5;124;43m\"\u001b[39;49m\u001b[43m)\u001b[49m\n\u001b[1;32m      9\u001b[0m args \u001b[38;5;241m=\u001b[39m parser\u001b[38;5;241m.\u001b[39mparse_known_args()\n\u001b[1;32m     10\u001b[0m my_list \u001b[38;5;241m=\u001b[39m [\u001b[38;5;28mint\u001b[39m(item) \u001b[38;5;28;01mfor\u001b[39;00m item \u001b[38;5;129;01min\u001b[39;00m args\u001b[38;5;241m.\u001b[39mlist\u001b[38;5;241m.\u001b[39msplit(\u001b[38;5;124m'\u001b[39m\u001b[38;5;124m,\u001b[39m\u001b[38;5;124m'\u001b[39m)]\n",
      "File \u001b[0;32m/usr/lib/python3.10/argparse.py:1412\u001b[0m, in \u001b[0;36m_ActionsContainer.add_argument\u001b[0;34m(self, *args, **kwargs)\u001b[0m\n\u001b[1;32m   1404\u001b[0m \u001b[39m\"\"\"\u001b[39;00m\n\u001b[1;32m   1405\u001b[0m \u001b[39madd_argument(dest, ..., name=value, ...)\u001b[39;00m\n\u001b[1;32m   1406\u001b[0m \u001b[39madd_argument(option_string, option_string, ..., name=value, ...)\u001b[39;00m\n\u001b[1;32m   1407\u001b[0m \u001b[39m\"\"\"\u001b[39;00m\n\u001b[1;32m   1409\u001b[0m \u001b[39m# if no positional args are supplied or only one is supplied and\u001b[39;00m\n\u001b[1;32m   1410\u001b[0m \u001b[39m# it doesn't look like an option string, parse a positional\u001b[39;00m\n\u001b[1;32m   1411\u001b[0m \u001b[39m# argument\u001b[39;00m\n\u001b[0;32m-> 1412\u001b[0m chars \u001b[39m=\u001b[39m \u001b[39mself\u001b[39;49m\u001b[39m.\u001b[39;49mprefix_chars\n\u001b[1;32m   1413\u001b[0m \u001b[39mif\u001b[39;00m \u001b[39mnot\u001b[39;00m args \u001b[39mor\u001b[39;00m \u001b[39mlen\u001b[39m(args) \u001b[39m==\u001b[39m \u001b[39m1\u001b[39m \u001b[39mand\u001b[39;00m args[\u001b[39m0\u001b[39m][\u001b[39m0\u001b[39m] \u001b[39mnot\u001b[39;00m \u001b[39min\u001b[39;00m chars:\n\u001b[1;32m   1414\u001b[0m     \u001b[39mif\u001b[39;00m args \u001b[39mand\u001b[39;00m \u001b[39m'\u001b[39m\u001b[39mdest\u001b[39m\u001b[39m'\u001b[39m \u001b[39min\u001b[39;00m kwargs:\n",
      "\u001b[0;31mAttributeError\u001b[0m: 'str' object has no attribute 'prefix_chars'"
     ]
    }
   ],
   "source": [
    "# testing list as arg.parse \n",
    "import argparse \n",
    "from argparse import ArgumentParser\n",
    "\n",
    "parser = ArgumentParser \n",
    "\n",
    "\n",
    "parser.add_argument('-ex', '--exclude-noise', help='delimited list input', type=str, default=\"akin,jay\")\n",
    "args = parser.parse_known_args()\n",
    "my_list = [int(item) for item in args.list.split(',')]"
   ]
  },
  {
   "cell_type": "code",
   "execution_count": null,
   "metadata": {},
   "outputs": [],
   "source": [
    "from datasets import load_dataset\n",
    "ds = load_dataset('common_voice', 'uk', split='train')\n",
    "df = pd.DataFrame(ds)\n",
    "\n"
   ]
  },
  {
   "cell_type": "markdown",
   "metadata": {},
   "source": [
    "# Sample preparing dataset for train, val and test using dataset lib"
   ]
  },
  {
   "cell_type": "code",
   "execution_count": null,
   "metadata": {},
   "outputs": [],
   "source": [
    "ds1 = load_dataset(\"csv\", data_files=os.path.join(os.environ[\"SM_CHANNEL_TRAIN\"], \"train.csv\"))\n",
    "ds2 = load_dataset(\"csv\", data_files=os.path.join(os.environ[\"SM_CHANNEL_VAL\"], \"val.csv\"))\n",
    "ds = concatenate_datasets([ds1['train'], ds2['train']])\n",
    "ds = datasets.DatasetDict({\"train\":ds})\n",
    "\n",
    "drop_cols = ['wuw_decision_threshold', 'full_audio_duration', 'device_model',\n",
    "            'wuw_prediction', 'device_id', 'ttl', 'transaction_id', 'language',\n",
    "            'full_audio_file_name', 'audio_processing_algorithm', 'device_type',\n",
    "            'command_primary_transcription', 'sowuw', 'device_sw_version',\n",
    "            'timestamp', 'return_code', 'device_push_to_talk', 'data_type',\n",
    "            'wuw_confidence_score', 'hardware_type', 'partner_id', 'eowuw',\n",
    "            'wuw_model_version', 'wuw_inference_time', 'country_code',\n",
    "            'annotated_quality', 'annotated_phrase_transcription',\n",
    "            'annotated_phrase_audio_type', 'annotated_age',\n",
    "            'annotated_ww_audio_type', 'processed', 'annotated_timestamp',\n",
    "            'annotated_voice_type', 'annotated_asr_match',\n",
    "            'annotated_additional_comments', 'wuw_duration', 's3_bucket', 's3_key','response']\n",
    "\n",
    "ds = ds.remove_columns(drop_cols)\n",
    "\n",
    "ds = ds.rename_column(\"wav_path\", \"audio\")\n",
    "ds = ds.cast_column(\"audio\", Audio())\n",
    "ClassLabels = ClassLabel(num_classes=len([0.0,1.0]), names=[\"NOT_WAKEWORD\",\"WAKEWORD\"])\n",
    "ds = ds.cast_column(\"label\", ClassLabels)\n",
    "\n",
    "ds = ds[\"train\"].train_test_split(\n",
    "    train_size=0.5, test_size=0.5, stratify_by_column=\"label\"\n",
    ")\n",
    "\n",
    "ds[\"train\"] = ds[\"train\"].select(\n",
    "    [i for i in range((len(ds[\"train\"]) // BATCH_SIZE) * BATCH_SIZE)]\n",
    ")\n",
    "ds[\"test\"] = ds[\"test\"].select(\n",
    "    [i for i in range((len(ds[\"test\"]) // BATCH_SIZE) * BATCH_SIZE)]\n",
    ")\n",
    "labels = ds[\"train\"].features[\"label\"].names\n",
    "label2id, id2label = dict(), dict()\n",
    "for i, label in enumerate(labels):\n",
    "    label2id[label] = str(i)\n",
    "    id2label[str(i)] = label\n",
    "\n",
    "print(id2label)\n",
    "feature_extractor = AutoFeatureExtractor.from_pretrained(\n",
    "    MODEL_CHECKPOINT, return_attention_mask=True\n",
    ")\n",
    "\n",
    "\n",
    "s = time.time()\n",
    "logger.info(\"Starting extraction of features\")\n",
    "ds = ds.map(\n",
    "    preprocess_function,\n",
    "    remove_columns=[\"audio\"],\n",
    "    batched=True)\n",
    "logger.info(\"Finished extraction of features\")\n",
    "f = time.time()\n",
    "logger.info(f\"time taken: {f-s}s\")\n",
    "\n",
    "train = ds[\"train\"].shuffle(seed=42).with_format(\"pt\", columns=[ 'label', 'input_values', 'attention_mask'], output_all_columns=True)[:]\n",
    "test = ds[\"test\"].shuffle(seed=42).with_format(\"pt\", columns=[ 'label', 'input_values', 'attention_mask'], output_all_columns=True)[:]\n",
    "    "
   ]
  },
  {
   "cell_type": "code",
   "execution_count": null,
   "metadata": {},
   "outputs": [],
   "source": []
  },
  {
   "cell_type": "code",
   "execution_count": null,
   "metadata": {},
   "outputs": [],
   "source": []
  },
  {
   "cell_type": "code",
   "execution_count": null,
   "metadata": {},
   "outputs": [],
   "source": []
  },
  {
   "cell_type": "code",
   "execution_count": null,
   "metadata": {},
   "outputs": [],
   "source": []
  },
  {
   "cell_type": "code",
   "execution_count": null,
   "metadata": {},
   "outputs": [],
   "source": []
  }
 ],
 "metadata": {
  "kernelspec": {
   "display_name": "pytorch-T3BHxh3q",
   "language": "python",
   "name": "pytorch-t3bhxh3q"
  },
  "language_info": {
   "codemirror_mode": {
    "name": "ipython",
    "version": 3
   },
   "file_extension": ".py",
   "mimetype": "text/x-python",
   "name": "python",
   "nbconvert_exporter": "python",
   "pygments_lexer": "ipython3",
   "version": "3.10.4"
  },
  "orig_nbformat": 4
 },
 "nbformat": 4,
 "nbformat_minor": 2
}
