{
 "cells": [
  {
   "attachments": {},
   "cell_type": "markdown",
   "metadata": {},
   "source": [
    "# Hugging face dataset"
   ]
  },
  {
   "cell_type": "code",
   "execution_count": null,
   "metadata": {},
   "outputs": [],
   "source": [
    "!tensorboard --logdir=/home/akinwilson/Code/pytorch/output/model/DeepSpeech/2022_09_24_12.18.00_PM/tf_board"
   ]
  },
  {
   "cell_type": "code",
   "execution_count": 2,
   "metadata": {},
   "outputs": [
    {
     "name": "stdout",
     "output_type": "stream",
     "text": [
      "/media/akinwilson/Samsung_T5/data/audio/keyword-spotting\n"
     ]
    }
   ],
   "source": [
    "import base64\n",
    "import numpy as np \n",
    "import os \n",
    "\n",
    "print(os.environ['DATA_ROOT'])"
   ]
  },
  {
   "cell_type": "code",
   "execution_count": null,
   "metadata": {},
   "outputs": [],
   "source": [
    "# import scipy.io  as io\n",
    "path = \"/home/akinwilson/Code/DL-torch-audio/dataset/keywords/yes/yes.f5626af6_nohash_2.wav\"\n",
    "# _, wav = io.wavfile.read(path)\n",
    "# wav\n",
    "# s = base64.b64encode(wav)\n",
    "\n",
    "# with open (\"base64audio\", \"wb\") as f:\n",
    "#     f.write(s)\n",
    "\n",
    "# with open(\"base64audio\", \"rb\") as file:\n",
    "#     BASE64 = file.read()\n",
    "\n",
    "\n",
    "# r = base64.decodebytes(BASE64)\n",
    "# q = np.frombuffer(r, dtype=np.int16)"
   ]
  },
  {
   "cell_type": "code",
   "execution_count": null,
   "metadata": {},
   "outputs": [],
   "source": []
  },
  {
   "cell_type": "code",
   "execution_count": 3,
   "metadata": {},
   "outputs": [
    {
     "ename": "FileNotFoundError",
     "evalue": "[Errno 2] No such file or directory: '/home/otis/Code/pytorch/dataset/keywords/unknown'",
     "output_type": "error",
     "traceback": [
      "\u001b[0;31m---------------------------------------------------------------------------\u001b[0m",
      "\u001b[0;31mFileNotFoundError\u001b[0m                         Traceback (most recent call last)",
      "\u001b[1;32m/home/otis/Code/DL-torch-audio/notebooks/get-data.ipynb Cell 6\u001b[0m in \u001b[0;36m4\n\u001b[1;32m     <a href='vscode-notebook-cell:/home/otis/Code/DL-torch-audio/notebooks/get-data.ipynb#W5sZmlsZQ%3D%3D?line=41'>42</a>\u001b[0m     dfv\u001b[39m.\u001b[39mto_csv(root_dir \u001b[39m/\u001b[39m \u001b[39m\"\u001b[39m\u001b[39mval.csv\u001b[39m\u001b[39m\"\u001b[39m, index\u001b[39m=\u001b[39m\u001b[39mFalse\u001b[39;00m)\n\u001b[1;32m     <a href='vscode-notebook-cell:/home/otis/Code/DL-torch-audio/notebooks/get-data.ipynb#W5sZmlsZQ%3D%3D?line=42'>43</a>\u001b[0m     dfs\u001b[39m.\u001b[39mto_csv(root_dir \u001b[39m/\u001b[39m \u001b[39m\"\u001b[39m\u001b[39mtest.csv\u001b[39m\u001b[39m\"\u001b[39m, index\u001b[39m=\u001b[39m\u001b[39mFalse\u001b[39;00m) \n\u001b[0;32m---> <a href='vscode-notebook-cell:/home/otis/Code/DL-torch-audio/notebooks/get-data.ipynb#W5sZmlsZQ%3D%3D?line=44'>45</a>\u001b[0m df \u001b[39m=\u001b[39m get_df()\n",
      "\u001b[1;32m/home/otis/Code/DL-torch-audio/notebooks/get-data.ipynb Cell 6\u001b[0m in \u001b[0;36m1\n\u001b[1;32m     <a href='vscode-notebook-cell:/home/otis/Code/DL-torch-audio/notebooks/get-data.ipynb#W5sZmlsZQ%3D%3D?line=13'>14</a>\u001b[0m \u001b[39mdef\u001b[39;00m \u001b[39mget_df\u001b[39m():\n\u001b[1;32m     <a href='vscode-notebook-cell:/home/otis/Code/DL-torch-audio/notebooks/get-data.ipynb#W5sZmlsZQ%3D%3D?line=14'>15</a>\u001b[0m     class_zero \u001b[39m=\u001b[39m []\n\u001b[0;32m---> <a href='vscode-notebook-cell:/home/otis/Code/DL-torch-audio/notebooks/get-data.ipynb#W5sZmlsZQ%3D%3D?line=15'>16</a>\u001b[0m     class_zero \u001b[39m=\u001b[39m [\u001b[39m*\u001b[39mclass_zero, \u001b[39m*\u001b[39m[\u001b[39mstr\u001b[39m(root_dir \u001b[39m/\u001b[39m \u001b[39m\"\u001b[39m\u001b[39munknown\u001b[39m\u001b[39m\"\u001b[39m \u001b[39m/\u001b[39m f) \u001b[39mfor\u001b[39;00m f \u001b[39min\u001b[39;00m os\u001b[39m.\u001b[39;49mlistdir(root_dir \u001b[39m/\u001b[39;49m \u001b[39m\"\u001b[39;49m\u001b[39munknown\u001b[39;49m\u001b[39m\"\u001b[39;49m)]]\n\u001b[1;32m     <a href='vscode-notebook-cell:/home/otis/Code/DL-torch-audio/notebooks/get-data.ipynb#W5sZmlsZQ%3D%3D?line=16'>17</a>\u001b[0m     class_zero \u001b[39m=\u001b[39m [\u001b[39m*\u001b[39mclass_zero, \u001b[39m*\u001b[39m[\u001b[39mstr\u001b[39m(root_dir \u001b[39m/\u001b[39m \u001b[39m\"\u001b[39m\u001b[39mno\u001b[39m\u001b[39m\"\u001b[39m \u001b[39m/\u001b[39m  f) \u001b[39mfor\u001b[39;00m f \u001b[39min\u001b[39;00m os\u001b[39m.\u001b[39mlistdir(root_dir \u001b[39m/\u001b[39m \u001b[39m\"\u001b[39m\u001b[39mno\u001b[39m\u001b[39m\"\u001b[39m)]]\n\u001b[1;32m     <a href='vscode-notebook-cell:/home/otis/Code/DL-torch-audio/notebooks/get-data.ipynb#W5sZmlsZQ%3D%3D?line=17'>18</a>\u001b[0m     class_zero \u001b[39m=\u001b[39m [\u001b[39m*\u001b[39mclass_zero, \u001b[39m*\u001b[39m[\u001b[39mstr\u001b[39m(root_dir\u001b[39m/\u001b[39m \u001b[39m\"\u001b[39m\u001b[39mnoise\u001b[39m\u001b[39m\"\u001b[39m \u001b[39m/\u001b[39m f) \u001b[39mfor\u001b[39;00m f \u001b[39min\u001b[39;00m os\u001b[39m.\u001b[39mlistdir(root_dir \u001b[39m/\u001b[39m \u001b[39m\"\u001b[39m\u001b[39mnoise\u001b[39m\u001b[39m\"\u001b[39m)]]\n",
      "\u001b[0;31mFileNotFoundError\u001b[0m: [Errno 2] No such file or directory: '/home/otis/Code/pytorch/dataset/keywords/unknown'"
     ]
    }
   ],
   "source": [
    "from pathlib import Path \n",
    "import torchaudio as ta \n",
    "import os \n",
    "import pandas as pd \n",
    "import numpy as numpy \n",
    "from sklearn.model_selection import train_test_split\n",
    "from wwv.util import get_username\n",
    "\n",
    "\n",
    "root_dir =Path(f\"/home/{get_username()}/Code/pytorch/dataset/keywords\") \n",
    "\n",
    "# os.listdir(root_dir)\n",
    "\n",
    "def get_df():\n",
    "    class_zero = []\n",
    "    class_zero = [*class_zero, *[str(root_dir / \"unknown\" / f) for f in os.listdir(root_dir / \"unknown\")]]\n",
    "    class_zero = [*class_zero, *[str(root_dir / \"no\" /  f) for f in os.listdir(root_dir / \"no\")]]\n",
    "    class_zero = [*class_zero, *[str(root_dir/ \"noise\" / f) for f in os.listdir(root_dir / \"noise\")]]\n",
    "\n",
    "    class_one = [str(root_dir / \"yes\" / f) for f in os.listdir(root_dir / \"yes\")]\n",
    "    \n",
    "    class_zero = [f for f in class_zero if f.endswith(\".wav\")]\n",
    "    class_one = [f for f in class_one if f.endswith(\".wav\")]\n",
    "\n",
    "    records = []\n",
    "    for p in class_zero:\n",
    "        records.append({\"label\": 0.0, \"wav_path\": p})\n",
    "    \n",
    "    for p in class_one:\n",
    "        records.append({\"label\": 1.0, \"wav_path\": p})\n",
    "    \n",
    "    return pd.DataFrame.from_records(records)\n",
    "\n",
    "# \n",
    "def create_split(testing=True):\n",
    "    df = get_df()\n",
    "    if testing:\n",
    "        df = df.sample(n=1000, random_state=1)\n",
    "    dftv, dfs = train_test_split(df, test_size=0.1)\n",
    "    dft, dfv = train_test_split(dftv, test_size=0.1)\n",
    "    dft.to_csv(root_dir / \"train.csv\", index=False)\n",
    "    dfv.to_csv(root_dir / \"val.csv\", index=False)\n",
    "    dfs.to_csv(root_dir / \"test.csv\", index=False) \n",
    "\n",
    "df = get_df()\n",
    "# get_df().to_csv(root_dir / \"data.csv\", index=False)\n"
   ]
  },
  {
   "cell_type": "code",
   "execution_count": 8,
   "metadata": {},
   "outputs": [
    {
     "name": "stdout",
     "output_type": "stream",
     "text": [
      " Loading train.csv\n",
      " Loading val.csv\n",
      " Loading test.csv\n"
     ]
    }
   ],
   "source": [
    "import pandas as pd \n",
    "from pathlib import Path\n",
    "from wwv.util import get_username\n",
    "\n",
    "\n",
    "def change_username_of_dataset_fileloactions(new, old=get_username()):\n",
    "    root_dir =Path(f\"/home/{new}/Code/DL-torch-audio/dataset/keywords\") \n",
    "    fs = [\"train.csv\", \"val.csv\", \"test.csv\"]\n",
    "    for f in fs:\n",
    "        print(f\" Loading {f}\")\n",
    "        df = pd.read_csv(f\"/media/{new}/Samsung_T5/data/audio/keyword-spotting/{f}\")\n",
    "        df.wav_path = df.wav_path.str.replace(old, new)\n",
    "        df.to_csv(f\"/media/{new}/Samsung_T5/data/audio/keyword-spotting/{f}\", index=False)\n",
    "\n",
    "change_username_of_dataset_fileloactions(get_username(), get_username())\n"
   ]
  },
  {
   "cell_type": "code",
   "execution_count": null,
   "metadata": {},
   "outputs": [],
   "source": [
    "import torchaudio as ta \n",
    "import torch \n",
    "\n",
    "x, sr = ta.load(pd.read_csv(\"/home/akinwilson/Code/pytorch/dataset/keywords/train.csv\").loc[2]['wav_path'])\n",
    "\n",
    "# x\n",
    "x =torch.cat([x for _ in range(32)], dim=0)\n",
    "torch.nn.Linear(16000, 1)(x)"
   ]
  },
  {
   "cell_type": "code",
   "execution_count": null,
   "metadata": {},
   "outputs": [],
   "source": [
    "from torchlibrosa.stft import Spectrogram, LogmelFilterBank\n",
    "?Spectrogram"
   ]
  },
  {
   "cell_type": "code",
   "execution_count": null,
   "metadata": {},
   "outputs": [],
   "source": [
    "# testing list as arg.parse \n",
    "import argparse \n",
    "from argparse import ArgumentParser\n",
    "\n",
    "parser = ArgumentParser \n",
    "\n",
    "\n",
    "parser.add_argument('-ex', '--exclude-noise', help='delimited list input', type=str, default=\"akin,jay\")\n",
    "args = parser.parse_known_args()\n",
    "my_list = [int(item) for item in args.list.split(',')]"
   ]
  },
  {
   "cell_type": "code",
   "execution_count": null,
   "metadata": {},
   "outputs": [],
   "source": [
    "from datasets import load_dataset\n",
    "ds = load_dataset('common_voice', 'uk', split='train')\n",
    "df = pd.DataFrame(ds)\n",
    "\n"
   ]
  },
  {
   "attachments": {},
   "cell_type": "markdown",
   "metadata": {},
   "source": [
    "# Sample preparing dataset for train, val and test using dataset lib"
   ]
  },
  {
   "cell_type": "code",
   "execution_count": null,
   "metadata": {},
   "outputs": [],
   "source": [
    "ds1 = load_dataset(\"csv\", data_files=os.path.join(os.environ[\"SM_CHANNEL_TRAIN\"], \"train.csv\"))\n",
    "ds2 = load_dataset(\"csv\", data_files=os.path.join(os.environ[\"SM_CHANNEL_VAL\"], \"val.csv\"))\n",
    "ds = concatenate_datasets([ds1['train'], ds2['train']])\n",
    "ds = datasets.DatasetDict({\"train\":ds})\n",
    "\n",
    "drop_cols = ['wuw_decision_threshold', 'full_audio_duration', 'device_model',\n",
    "            'wuw_prediction', 'device_id', 'ttl', 'transaction_id', 'language',\n",
    "            'full_audio_file_name', 'audio_processing_algorithm', 'device_type',\n",
    "            'command_primary_transcription', 'sowuw', 'device_sw_version',\n",
    "            'timestamp', 'return_code', 'device_push_to_talk', 'data_type',\n",
    "            'wuw_confidence_score', 'hardware_type', 'partner_id', 'eowuw',\n",
    "            'wuw_model_version', 'wuw_inference_time', 'country_code',\n",
    "            'annotated_quality', 'annotated_phrase_transcription',\n",
    "            'annotated_phrase_audio_type', 'annotated_age',\n",
    "            'annotated_ww_audio_type', 'processed', 'annotated_timestamp',\n",
    "            'annotated_voice_type', 'annotated_asr_match',\n",
    "            'annotated_additional_comments', 'wuw_duration', 's3_bucket', 's3_key','response']\n",
    "\n",
    "ds = ds.remove_columns(drop_cols)\n",
    "\n",
    "ds = ds.rename_column(\"wav_path\", \"audio\")\n",
    "ds = ds.cast_column(\"audio\", Audio())\n",
    "ClassLabels = ClassLabel(num_classes=len([0.0,1.0]), names=[\"NOT_WAKEWORD\",\"WAKEWORD\"])\n",
    "ds = ds.cast_column(\"label\", ClassLabels)\n",
    "\n",
    "ds = ds[\"train\"].train_test_split(\n",
    "    train_size=0.5, test_size=0.5, stratify_by_column=\"label\"\n",
    ")\n",
    "\n",
    "ds[\"train\"] = ds[\"train\"].select(\n",
    "    [i for i in range((len(ds[\"train\"]) // BATCH_SIZE) * BATCH_SIZE)]\n",
    ")\n",
    "ds[\"test\"] = ds[\"test\"].select(\n",
    "    [i for i in range((len(ds[\"test\"]) // BATCH_SIZE) * BATCH_SIZE)]\n",
    ")\n",
    "labels = ds[\"train\"].features[\"label\"].names\n",
    "label2id, id2label = dict(), dict()\n",
    "for i, label in enumerate(labels):\n",
    "    label2id[label] = str(i)\n",
    "    id2label[str(i)] = label\n",
    "\n",
    "print(id2label)\n",
    "feature_extractor = AutoFeatureExtractor.from_pretrained(\n",
    "    MODEL_CHECKPOINT, return_attention_mask=True\n",
    ")\n",
    "\n",
    "\n",
    "s = time.time()\n",
    "logger.info(\"Starting extraction of features\")\n",
    "ds = ds.map(\n",
    "    preprocess_function,\n",
    "    remove_columns=[\"audio\"],\n",
    "    batched=True)\n",
    "logger.info(\"Finished extraction of features\")\n",
    "f = time.time()\n",
    "logger.info(f\"time taken: {f-s}s\")\n",
    "\n",
    "train = ds[\"train\"].shuffle(seed=42).with_format(\"pt\", columns=[ 'label', 'input_values', 'attention_mask'], output_all_columns=True)[:]\n",
    "test = ds[\"test\"].shuffle(seed=42).with_format(\"pt\", columns=[ 'label', 'input_values', 'attention_mask'], output_all_columns=True)[:]\n",
    "    "
   ]
  },
  {
   "cell_type": "code",
   "execution_count": null,
   "metadata": {},
   "outputs": [],
   "source": []
  },
  {
   "cell_type": "code",
   "execution_count": null,
   "metadata": {},
   "outputs": [],
   "source": []
  },
  {
   "cell_type": "code",
   "execution_count": null,
   "metadata": {},
   "outputs": [],
   "source": []
  },
  {
   "cell_type": "code",
   "execution_count": null,
   "metadata": {},
   "outputs": [],
   "source": []
  },
  {
   "cell_type": "code",
   "execution_count": null,
   "metadata": {},
   "outputs": [],
   "source": []
  }
 ],
 "metadata": {
  "kernelspec": {
   "display_name": "pytorch-Q_7byvF4",
   "language": "python",
   "name": "python3"
  },
  "language_info": {
   "codemirror_mode": {
    "name": "ipython",
    "version": 3
   },
   "file_extension": ".py",
   "mimetype": "text/x-python",
   "name": "python",
   "nbconvert_exporter": "python",
   "pygments_lexer": "ipython3",
   "version": "3.10.6"
  },
  "orig_nbformat": 4
 },
 "nbformat": 4,
 "nbformat_minor": 2
}
