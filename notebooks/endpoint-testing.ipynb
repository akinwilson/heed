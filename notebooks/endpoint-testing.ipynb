{
 "cells": [
  {
   "cell_type": "markdown",
   "metadata": {},
   "source": [
    "# Config"
   ]
  },
  {
   "cell_type": "code",
   "execution_count": null,
   "metadata": {},
   "outputs": [],
   "source": []
  },
  {
   "cell_type": "markdown",
   "metadata": {},
   "source": [
    "# Testing endpoint for various execution providers\n",
    "\n",
    "### dummy data"
   ]
  },
  {
   "cell_type": "code",
   "execution_count": 2,
   "metadata": {},
   "outputs": [],
   "source": [
    "import requests\n",
    "\n",
    "import base64\n",
    "import numpy as np\n",
    "import scipy.io  as io\n",
    "import pandas as pd \n",
    "import time \n",
    "import os \n",
    "import subprocess \n",
    "from subprocess import Popen, PIPE\n",
    "\n",
    "\n",
    "path = \"/home/akinwilson/Code/pytorch/dataset/keywords/yes/yes.f5626af6_nohash_2.wav\"\n",
    "train_df_path = \"/home/akinwilson/Code/pytorch/dataset/keywords/train.csv\"\n",
    "df = pd.read_csv(train_df_path).sample(n=100)\n",
    "\n",
    "def encode_wav(path):\n",
    "    _, wav = io.wavfile.read(path)\n",
    "    wav\n",
    "    s = base64.b64encode(wav)\n",
    "    return s \n",
    "\n",
    "# load input data \n",
    "data_list = [{'base64str': encode_wav(path).decode('utf-8')} for path in df.wav_path]\n",
    "exec_and_container_name = [(\"CUDAExecutionProvider\", \"testgpu\"), (\"CPUExecutionProvider\", \"testcpu\"),(\"TensorrtExecutionProvider\", \"testrt\")]\n",
    "\n",
    "def init_backend(executioner, executioner_name):\n",
    "    cmd = f'docker run --gpus all -p 8080:80 -e \"WORKERS=1\" -e \"EXECUTION_PROVIDER={executioner}\" --name=\"{executioner_name}\" serve:latest'\n",
    "    # subprocess.call(cmd, shell=True)  \n",
    "    cmd_list= cmd.split()\n",
    "    print(cmd_list)\n",
    "    p = subprocess.Popen(cmd_list, stdout=subprocess.PIPE)\n",
    "    out, err = p.communicate()\n",
    "    print(out)\n",
    "    t = 10\n",
    "    print(f\"Sleeping for {t} seconds to allow the backend using {executioner} to spin up\")\n",
    "    time.sleep(t)\n",
    "\n",
    "\n",
    "\n",
    "def stop_backend(executioner):\n",
    "    print(f\"Stopping container {executioner}\")\n",
    "    subprocess.call(f'docker stop {executioner}', shell=True) \n",
    "    time.sleep(1)\n",
    "    print(f\"Removing container {executioner}\") \n",
    "    subprocess.call(f'docker rm {executioner}', shell=True)\n",
    "    time.sleep(1)\n",
    "\n"
   ]
  },
  {
   "cell_type": "code",
   "execution_count": null,
   "metadata": {},
   "outputs": [],
   "source": [
    "init_backend(*exec_and_container_name[0])"
   ]
  },
  {
   "cell_type": "markdown",
   "metadata": {},
   "source": [
    "### "
   ]
  },
  {
   "cell_type": "code",
   "execution_count": 3,
   "metadata": {},
   "outputs": [
    {
     "name": "stdout",
     "output_type": "stream",
     "text": [
      "Sent 100 queries in 10.76884126663208 seconds\n",
      "QPS: 9.29\n",
      "Avg inference time: 0.10247692108154297\n",
      "Sent 100 queries in 8.16280722618103 seconds\n",
      "QPS: 12.25\n",
      "Avg inference time: 0.15124895572662353\n",
      "Sent 100 queries in 6.424834966659546 seconds\n",
      "QPS: 15.56\n",
      "Avg inference time: 0.1717548656463623\n",
      "Sent 100 queries in 6.318666696548462 seconds\n",
      "QPS: 15.83\n",
      "Avg inference time: 0.22263858556747437\n",
      "Sent 100 queries in 6.0048112869262695 seconds\n",
      "QPS: 16.65\n",
      "Avg inference time: 0.28318647146224973\n",
      "Sent 100 queries in 6.065261363983154 seconds\n",
      "QPS: 16.49\n",
      "Avg inference time: 0.3204184865951538\n",
      "Sent 100 queries in 5.953427314758301 seconds\n",
      "QPS: 16.80\n",
      "Avg inference time: 0.3715604043006897\n",
      "Sent 100 queries in 5.899148464202881 seconds\n",
      "QPS: 16.95\n",
      "Avg inference time: 0.4237077760696411\n",
      "Sent 100 queries in 5.592055559158325 seconds\n",
      "QPS: 17.88\n",
      "Avg inference time: 0.47301790475845334\n",
      "Sent 100 queries in 5.527585983276367 seconds\n",
      "QPS: 18.09\n",
      "Avg inference time: 0.5058519053459167\n",
      "Sent 100 queries in 5.399599313735962 seconds\n",
      "QPS: 18.52\n",
      "Avg inference time: 0.5673502564430237\n",
      "Sent 100 queries in 5.347394704818726 seconds\n",
      "QPS: 18.70\n",
      "Avg inference time: 0.5872776532173156\n",
      "Sent 100 queries in 5.217284679412842 seconds\n",
      "QPS: 19.17\n",
      "Avg inference time: 0.6328828191757202\n",
      "Sent 100 queries in 5.147465944290161 seconds\n",
      "QPS: 19.43\n",
      "Avg inference time: 0.6593768715858459\n",
      "Sent 100 queries in 5.088407278060913 seconds\n",
      "QPS: 19.65\n",
      "Avg inference time: 0.6976338005065919\n",
      "Sent 100 queries in 4.966648101806641 seconds\n",
      "QPS: 20.13\n",
      "Avg inference time: 0.7417647957801818\n",
      "Sent 100 queries in 5.00271201133728 seconds\n",
      "QPS: 19.99\n",
      "Avg inference time: 0.7925531029701233\n",
      "Sent 100 queries in 4.940091848373413 seconds\n",
      "QPS: 20.24\n",
      "Avg inference time: 0.8084715867042541\n",
      "Sent 100 queries in 4.914730787277222 seconds\n",
      "QPS: 20.35\n",
      "Avg inference time: 0.8272697567939759\n",
      "Sent 100 queries in 4.7860307693481445 seconds\n",
      "QPS: 20.89\n",
      "Avg inference time: 0.8598064494132995\n",
      "Sent 100 queries in 4.76786994934082 seconds\n",
      "QPS: 20.97\n",
      "Avg inference time: 0.9019345307350158\n",
      "Sent 100 queries in 4.755163669586182 seconds\n",
      "QPS: 21.03\n",
      "Avg inference time: 0.9374594974517823\n",
      "Sent 100 queries in 4.759301662445068 seconds\n",
      "QPS: 21.01\n",
      "Avg inference time: 0.9740894556045532\n",
      "Sent 100 queries in 4.7093682289123535 seconds\n",
      "QPS: 21.23\n",
      "Avg inference time: 1.0108900690078735\n",
      "Sent 100 queries in 4.534915208816528 seconds\n",
      "QPS: 22.05\n",
      "Avg inference time: 1.0580534315109253\n",
      "Sent 100 queries in 4.562899827957153 seconds\n",
      "QPS: 21.92\n",
      "Avg inference time: 1.1039248251914977\n",
      "Sent 100 queries in 4.548605442047119 seconds\n",
      "QPS: 21.98\n",
      "Avg inference time: 1.138504559993744\n",
      "Sent 100 queries in 4.680002927780151 seconds\n",
      "QPS: 21.37\n",
      "Avg inference time: 1.1793545627593993\n",
      "Sent 100 queries in 4.522963285446167 seconds\n",
      "QPS: 22.11\n",
      "Avg inference time: 1.2038555932044983\n",
      "Sent 100 queries in 4.437830924987793 seconds\n",
      "QPS: 22.53\n",
      "Avg inference time: 1.2201941108703613\n",
      "Sent 100 queries in 4.393665313720703 seconds\n",
      "QPS: 22.76\n",
      "Avg inference time: 1.2512094569206238\n",
      "Sent 100 queries in 4.362956523895264 seconds\n",
      "QPS: 22.92\n",
      "Avg inference time: 1.284153745174408\n",
      "Sent 100 queries in 4.397686958312988 seconds\n",
      "QPS: 22.74\n",
      "Avg inference time: 1.3287430572509766\n",
      "Sent 100 queries in 4.504844427108765 seconds\n",
      "QPS: 22.20\n",
      "Avg inference time: 1.4120420050621032\n",
      "Sent 100 queries in 4.479562520980835 seconds\n",
      "QPS: 22.32\n",
      "Avg inference time: 1.4167018914222718\n",
      "Sent 100 queries in 4.464301824569702 seconds\n",
      "QPS: 22.40\n",
      "Avg inference time: 1.3825333881378175\n",
      "Sent 100 queries in 4.483936309814453 seconds\n",
      "QPS: 22.30\n",
      "Avg inference time: 1.5070590567588806\n",
      "Sent 100 queries in 4.3495934009552 seconds\n",
      "QPS: 22.99\n",
      "Avg inference time: 1.4935022950172425\n",
      "Sent 100 queries in 4.361696004867554 seconds\n",
      "QPS: 22.93\n",
      "Avg inference time: 1.5459936451911926\n"
     ]
    }
   ],
   "source": [
    "def send_request(data):\n",
    "    url = 'http://0.0.0.0:8080/api/v1/predict'\n",
    "    x = requests.post(url, json = data)\n",
    "    return x.json()\n",
    "\n",
    "\n",
    "import multiprocessing as mp\n",
    "import time\n",
    "latency_results = []\n",
    "\n",
    "for process_count in range(1, 40):\n",
    "    pool = mp.Pool(processes=process_count)\n",
    "    s = time.time()\n",
    "    results = pool.map(send_request, data_list)\n",
    "    f = time.time()\n",
    "    print(f\"Sent {len(data_list)} queries in {f-s} seconds\")\n",
    "    print(f\"QPS: {(len(data_list) / (f-s) ):.2f}\")\n",
    "    inf_times = [result['result']['inference_time'] for result in results] \n",
    "    avg_inf = sum(inf_times) / len(inf_times)\n",
    "    print(f\"Avg inference time: {avg_inf}\")\n",
    "    exec = \"CPU\"\n",
    "    latency_results.append( {\n",
    "        \"Executioner\": exec,\n",
    "        \"process_count\":process_count,\n",
    "        \"average_inference_time\": avg_inf, \n",
    "        \"QPS\": len(data_list) / (f-s),\n",
    "    })\n",
    "import json\n",
    "\n",
    "with open(f\"latency_result_{exec}.list\", \"w\") as file:\n",
    "    file.write(json.dumps(latency_results))\n"
   ]
  },
  {
   "cell_type": "code",
   "execution_count": 22,
   "metadata": {},
   "outputs": [
    {
     "data": {
      "image/png": "[encoded data removed]",
      "text/plain": [
       "<Figure size 640x480 with 1 Axes>"
      ]
     },
     "metadata": {},
     "output_type": "display_data"
    }
   ],
   "source": [
    "lat_result_path = [\n",
    "    \"/home/akinwilson/Code/pytorch/notebooks/latency_result_TensorRT.list\",\n",
    "    \"/home/akinwilson/Code/pytorch/notebooks/latency_result_CUDA.list\",\n",
    "    \"/home/akinwilson/Code/pytorch/notebooks/latency_result_CPU.list\"\n",
    "]\n",
    "import pandas as pd \n",
    "import matplotlib.pyplot as plt\n",
    "from matplotlib import rc\n",
    "from matplotlib import style \n",
    "style.use('seaborn-bright')\n",
    "plt.rcParams['font.family'] = \"serif\"\n",
    "\n",
    "\n",
    "def get_df(path=lat_result_path[2]):\n",
    "    with open(path, \"r\") as f:\n",
    "        df = pd.DataFrame.from_records(json.loads(f.read()))\n",
    "    return df \n",
    "get_df()\n",
    "\n",
    "def plot_comparing(col='average_inference_time'):\n",
    "    to_plot = {p.split(\".\")[0].split(\"_\")[-1]: get_df(p) for p in lat_result_path}\n",
    "    col_title = \" \".join(col.split(\"_\")) if \"_\" in col else col \n",
    "    plt.title(f\"{col_title} over proccess count\")\n",
    "    for idx, (k,v) in enumerate(to_plot.items()):\n",
    "        cs = {0:\"r\", 1:\"k\", 2:\"b\"}\n",
    "        plt.plot(v.process_count.tolist(), v[col].tolist(), cs[idx], label=k) # plotting t, a separately \n",
    "        plt.legend()\n",
    "\n",
    "\n",
    "plot_comparing(col='QPS')"
   ]
  },
  {
   "cell_type": "code",
   "execution_count": 23,
   "metadata": {},
   "outputs": [
    {
     "data": {
      "image/png": "[encoded data removed]",
      "text/plain": [
       "<Figure size 640x480 with 1 Axes>"
      ]
     },
     "metadata": {},
     "output_type": "display_data"
    }
   ],
   "source": [
    "plot_comparing(col='average_inference_time')"
   ]
  },
  {
   "cell_type": "code",
   "execution_count": null,
   "metadata": {},
   "outputs": [],
   "source": [
    "path = \"/home/akinwilson/Code/pytorch/dataset/data/000a5b70-dfe9-4bf5-9199-85feb935bfdb.wav\"\n",
    "\n",
    "from scipy.io import wavfile\n",
    "import base64 \n",
    "\n",
    "samplerate, data = wavfile.read(path)\n",
    "\n",
    "\n",
    "txt = base64.b64encode(data)\n",
    "\n",
    "# with open(\"bas64.example\", \"wb\") as file:\n",
    "#     file.write(txt)\n",
    "\n",
    "import numpy as np \n",
    "\n",
    "decoded_wav = base64.decodebytes(txt)\n",
    "x = np.frombuffer(decoded_wav, dtype=np.int16)\n",
    "x.shape\n"
   ]
  },
  {
   "cell_type": "code",
   "execution_count": null,
   "metadata": {},
   "outputs": [],
   "source": [
    "{\n",
    "    \"x_min\": \"y_min_out\",\n",
    "    \"x_min + 1delta\": \"y_min+1_out\",\n",
    "    \"x_min + 2delta\": \"y_min+2_out\",\n",
    "    ...,\n",
    "    ...,\n",
    "    ...,\n",
    "    \"x_max - 2delta\": \"y_min- 2_out\",\n",
    "    \"x_max - 1delta\": \"y_max -1_out\",\n",
    "    \"x_max : \"y_max_out\"\n",
    "}"
   ]
  },
  {
   "cell_type": "code",
   "execution_count": null,
   "metadata": {},
   "outputs": [],
   "source": [
    "import os \n",
    "\n",
    "print()\n",
    "\n",
    "{\n",
    "    \"Layer1\": {\n",
    "        \"weights\": [\n",
    "            [\"w^1_11\",\"w^1_12\"],\n",
    "            [\"w^1_21\",\"w^1_22\"]\n",
    "            ], \n",
    "        \"bias\": [\n",
    "                [\"b^1_1\"],\n",
    "                [\"b^1_2\"]\n",
    "            ],\n",
    "    \"Layer2\": {\n",
    "        \"weights\": [\n",
    "            [\"w^2_11\"],\n",
    "            [\"w^2_21\"]\n",
    "            ], \n",
    "        \"bias\": [\n",
    "                [\"b^2_1\"],\n",
    "            ],\n",
    "    }\n",
    "}\n",
    "\n",
    "[\n",
    "    [\n",
    "        [\"w^1_11\",\"w^1_12\", \"b^1_1\"],\n",
    "        [\"w^1_21\",\"w^1_22\", \"b^1_2\"]\n",
    "        ],\n",
    "        [\n",
    "            [\"w^2_11\"],\n",
    "            [\"w^2_21\"],\n",
    "            [\"b^2_1\"]\n",
    "    ]        \n",
    "]\n",
    "    "
   ]
  },
  {
   "cell_type": "markdown",
   "metadata": {},
   "source": [
    "## Testing onnx runtime\n",
    "\n",
    " Issue with CUDA as exection provider. \n",
    "\n",
    " see: \n",
    " \n",
    "    https://stackoverflow.com/questions/70014477/onnxruntime-not-using-cuda"
   ]
  },
  {
   "cell_type": "code",
   "execution_count": null,
   "metadata": {},
   "outputs": [],
   "source": [
    "ort_session.get_providers()"
   ]
  },
  {
   "cell_type": "code",
   "execution_count": null,
   "metadata": {},
   "outputs": [],
   "source": [
    "import onnx \n",
    "\n",
    "# path= \"/home/akinwilson/Code/pytorch/output/model/DeepSpeech/2022_09_12_11.22.09_AM/export/DeepSpeech.onnx\"\n",
    "\n",
    "# p = \"/home/akinwilson/Code/pytorch/output/model/DeepSpeech/2022_09_12_11.22.09_AM/inference/DeepSpeech.pt\"\n",
    "\n",
    "import onnxruntime\n",
    "import torch \n",
    "import time \n",
    "import logging \n",
    "logger = logging.getLogger()\n",
    "logger.setLevel(logging.INFO)\n",
    "logger.addHandler(logging.StreamHandler())\n",
    "\n",
    "x = torch.randn(1, 1, 48000, device='cpu')\n",
    "s = time.time()\n"
   ]
  },
  {
   "cell_type": "code",
   "execution_count": null,
   "metadata": {},
   "outputs": [],
   "source": [
    "# import onnxruntime as ort\n",
    "# ort.get_all_providers()\n",
    "# ort.get_device()"
   ]
  },
  {
   "cell_type": "code",
   "execution_count": null,
   "metadata": {},
   "outputs": [],
   "source": [
    "# import onnxruntime\n",
    "# import torch \n",
    "# import time \n",
    "# onnxruntime.get_providers()"
   ]
  },
  {
   "cell_type": "code",
   "execution_count": null,
   "metadata": {},
   "outputs": [],
   "source": [
    "# p = \"/home/akinwilson/Code/pytorch/output/model/DeepSpeech/2022_09_12_11.22.09_AM/inference/DeepSpeech.pt\"\n",
    "# import torch \n",
    "# import time \n",
    "# # model = torch.load(p)\n",
    "# s= time.time()\n",
    "# model.forward(x)\n",
    "# f = time.time()\n",
    "# print(f\"Serving python: {(f-s)* 1e3:.5f}ms\")"
   ]
  },
  {
   "cell_type": "code",
   "execution_count": null,
   "metadata": {},
   "outputs": [],
   "source": []
  }
 ],
 "metadata": {
  "kernelspec": {
   "display_name": "pytorch-T3BHxh3q",
   "language": "python",
   "name": "pytorch-t3bhxh3q"
  },
  "language_info": {
   "codemirror_mode": {
    "name": "ipython",
    "version": 3
   },
   "file_extension": ".py",
   "mimetype": "text/x-python",
   "name": "python",
   "nbconvert_exporter": "python",
   "pygments_lexer": "ipython3",
   "version": "3.10.4"
  },
  "orig_nbformat": 4
 },
 "nbformat": 4,
 "nbformat_minor": 2
}
