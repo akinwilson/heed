{
 "cells": [
  {
   "cell_type": "markdown",
   "metadata": {},
   "source": [
    "# Run train.py "
   ]
  },
  {
   "cell_type": "code",
   "execution_count": null,
   "metadata": {},
   "outputs": [],
   "source": [
    "from wwv.config import Config \n",
    "MODEL_DIR = \"/home/akinwilson/Code/pytorch/output/model\"\n",
    "DATA_DIR = \"/home/akinwilson/Code/pytorch/dataset/keywords\"\n",
    "LR_RANGE = [1e-1, 1e-2, 1e-3, 1e-4, 1e-5][1]\n",
    "BATCH_SIZE_RANGE = [1,2,32, 64, 128, 256][1]\n",
    "EPOCH_RANGE = [1, 10, 30, 50, 100, 1000][0]\n",
    "ES_PATIENCE_RANGE = [1, 10, 20, 100, 200][2]\n",
    "MODELS = [\"VecM5\", \"Resnet2vec1D\",\"SpecResnet2D\", \"HSTAT\", \"DeepSpeech\"][-1]\n",
    "AUDIO_FEATURE_OPT = [\"spectrogram\", \"mfcc\", \"pcm\"][-1]\n",
    "PRETRAINED_MODEL_NAME_OR_PATH = \"facebook/wav2vec2-base-960h\"\n",
    "AUGS = True\n",
    "\n",
    "\n",
    "params = {\n",
    "    \"audio_duration\":3,\n",
    "    \"sample_rate\":16000,\n",
    "    \"model_name\": MODELS,\n",
    "    \"path\": {\n",
    "        \"model_dir\": MODEL_DIR,\n",
    "        \"data_dir\": DATA_DIR,\n",
    "        \"pretrained_name_or_path\": PRETRAINED_MODEL_NAME_OR_PATH\n",
    "        },\n",
    "    \"fit_param\": {\"init_lr\":LR_RANGE, \"weight_decay\":0.0001, \"max_epochs\":EPOCH_RANGE, \"gamma\": 0.1,\"es_patience\":ES_PATIENCE_RANGE}, \n",
    "    \"data_param\":{\"train_batch_size\": BATCH_SIZE_RANGE, \"val_batch_size\": BATCH_SIZE_RANGE,\"test_batch_size\": BATCH_SIZE_RANGE}, \n",
    "    \"audio_feature\": AUDIO_FEATURE_OPT,\n",
    "    \"audio_feature_param\": { \"mfcc\":{\"sr\":16000,\"n_mfcc\":20,\"norm\": 'ortho',\"verbose\":True,\"ref\":1.0,\"amin\":1e-10,\"top_db\":80.0,\"hop_length\":512,},\n",
    "                            \"spectrogram\":{\"sr\":16000, \"n_fft\":2048, \"win_length\":None,\"n_mels\":128,\"hop_length\":512,\"window\":'hann',\"center\":True,\"pad_mode\":'reflect',\"power\":2.0,\"htk\":False,\"fmin\":0.0,\"fmax\":None,\"norm\":1,\"trainable_mel\":False,\"trainable_STFT\":False,\"verbose\": True },\n",
    "                            \"pcm\": {}},\n",
    "    \"augmentation\":{'Gain': AUGS, 'PitchShift': AUGS, 'Shift': AUGS},\n",
    "    \"augmentation_param\":{\"Gain\": {  \"min_gain_in_db\":-18.0,\"max_gain_in_db\":  6.0,\"mode\":'per_example',\"p\":1,\"p_mode\":'per_example'},\n",
    "                        \"PitchShift\": {\"min_transpose_semitones\": -4.0, \"max_transpose_semitones\": 4.0,\"mode\":'per_example',\"p\":1,\"p_mode\":'per_example',\"sample_rate\":16000,\"target_rate\": None,\"output_type\": None,},\n",
    "                        \"Shift\":{ \"min_shift\":-0.5,\"max_shift\": 0.5,\"shift_unit\":'fraction',\"rollover\": True,\"mode\":'per_example',\"p\":1,\"p_mode\": 'per_example',\"sample_rate\": 16000,\"target_rate\":None,\"output_type\":None}},\n",
    "    }\n",
    "\n",
    "cfg = Config(params)\n",
    "from wwv.train import main\n",
    "main(cfg)"
   ]
  },
  {
   "cell_type": "code",
   "execution_count": 1,
   "metadata": {},
   "outputs": [
    {
     "name": "stdout",
     "output_type": "stream",
     "text": [
      "2022-09-30 16:04:46.547255: I tensorflow/stream_executor/cuda/cuda_gpu_executor.cc:975] successful NUMA node read from SysFS had negative value (-1), but there must be at least one NUMA node, so returning NUMA node zero\n",
      "2022-09-30 16:04:46.547698: I tensorflow/stream_executor/cuda/cuda_gpu_executor.cc:975] successful NUMA node read from SysFS had negative value (-1), but there must be at least one NUMA node, so returning NUMA node zero\n",
      "2022-09-30 16:04:46.548072: I tensorflow/stream_executor/cuda/cuda_gpu_executor.cc:975] successful NUMA node read from SysFS had negative value (-1), but there must be at least one NUMA node, so returning NUMA node zero\n",
      "2022-09-30 16:04:46.548444: I tensorflow/stream_executor/cuda/cuda_gpu_executor.cc:975] successful NUMA node read from SysFS had negative value (-1), but there must be at least one NUMA node, so returning NUMA node zero\n",
      "2022-09-30 16:04:46.575560: W tensorflow/stream_executor/platform/default/dso_loader.cc:64] Could not load dynamic library 'libcudnn.so.8'; dlerror: libcudnn.so.8: cannot open shared object file: No such file or directory\n",
      "2022-09-30 16:04:46.575585: W tensorflow/core/common_runtime/gpu/gpu_device.cc:1850] Cannot dlopen some GPU libraries. Please make sure the missing libraries mentioned above are installed properly if you would like to use GPU. Follow the guide at https://www.tensorflow.org/install/gpu for how to download and setup the required libraries for your platform.\n",
      "Skipping registering GPU devices...\n",
      "\n",
      "NOTE: Using experimental fast data loading logic. To disable, pass\n",
      "    \"--load_fast=false\" and report issues on GitHub. More details:\n",
      "    https://github.com/tensorflow/tensorboard/issues/4784\n",
      "\n",
      "Serving TensorBoard on localhost; to expose to the network, use a proxy or pass --bind_all\n",
      "TensorBoard 2.9.1 at http://localhost:6006/ (Press CTRL+C to quit)\n"
     ]
    }
   ],
   "source": [
    "!tensorboard --logdir /home/akinwilson/Code/pytorch/output/model/ResNet/lightning_logs"
   ]
  },
  {
   "cell_type": "code",
   "execution_count": null,
   "metadata": {},
   "outputs": [],
   "source": []
  },
  {
   "cell_type": "code",
   "execution_count": null,
   "metadata": {},
   "outputs": [],
   "source": []
  },
  {
   "cell_type": "code",
   "execution_count": null,
   "metadata": {},
   "outputs": [],
   "source": []
  },
  {
   "cell_type": "code",
   "execution_count": null,
   "metadata": {},
   "outputs": [],
   "source": []
  }
 ],
 "metadata": {
  "kernelspec": {
   "display_name": "pytorch-T3BHxh3q",
   "language": "python",
   "name": "pytorch-t3bhxh3q"
  },
  "language_info": {
   "codemirror_mode": {
    "name": "ipython",
    "version": 3
   },
   "file_extension": ".py",
   "mimetype": "text/x-python",
   "name": "python",
   "nbconvert_exporter": "python",
   "pygments_lexer": "ipython3",
   "version": "3.10.4"
  },
  "orig_nbformat": 4
 },
 "nbformat": 4,
 "nbformat_minor": 2
}
